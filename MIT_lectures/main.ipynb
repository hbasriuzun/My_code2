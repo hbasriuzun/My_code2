{
 "cells": [
  {
   "cell_type": "markdown",
   "metadata": {},
   "source": [
    "### Explanation:\n",
    "\n",
    "First, recall from Problem 1.3 the formula for the signed perpendicular distance of a general hyperplane defined by \\( \\theta \\), \\( \\theta_0 \\) to a point \\( x \\):\n",
    "$$ \\frac{{\\theta^T x + \\theta_0}}{{\\| \\theta \\|}} $$\n",
    "\n",
    "In order to code this, we can think of it as a 3-step process:\n",
    "\n",
    "1. Matrix multiply the transpose of \\( \\theta \\) and \\( x \\) (this can be done as `np.dot(np.transpose(th), x)`, `np.matmul(np.transpose(th), x)`, or `np.transpose(th) @ x` but NOT as `np.transpose * x`, which is element-wise multiplication)\n",
    "2. Add \\( \\theta_0 \\) to this product (`+ th0`)\n",
    "3. Divide the entire thing by the norm of \\( \\theta \\) (`length(th)` as defined in 2.6). Make sure you divide the **entire** sum by `length(th)`, not just `th0`!\n",
    "\n",
    "Putting these all together gives us our desired solution: \n",
    "```python\n",
    "(np.dot(np.transpose(th), x) + th0) / length(th)\n"
   ]
  },
  {
   "cell_type": "code",
   "execution_count": 2,
   "metadata": {},
   "outputs": [],
   "source": [
    "import numpy as np\n",
    "# x is dimension d by 1\n",
    "# th is dimension d by 1\n",
    "# th0 is a scalar\n",
    "# return 1 by 1 matrix of signed distance\n",
    "def signed_dist(x, th, th0):\n",
    "   return ((th.T@x) + th0) / length(th)"
   ]
  },
  {
   "cell_type": "markdown",
   "metadata": {},
   "source": [
    "### Explanation:\n",
    "\n",
    "First, recall the formula for how we determine which side of the hyperplane defined by \\( \\theta \\), \\( \\theta_0 \\) a point \\( x \\) lies on:\n",
    "$$ \\text{sign}(\\theta^T x + \\theta_0) $$\n",
    "\n",
    "The expression inside the `sign()` function can be coded the same way we did in the previous problem, leading to our desired solution:\n",
    "```python\n",
    "np.sign(np.dot(np.transpose(th), x) + th0)\n"
   ]
  },
  {
   "cell_type": "code",
   "execution_count": 3,
   "metadata": {},
   "outputs": [],
   "source": [
    "def positive(x, th, th0):\n",
    "   return np.sign(np.dot(np.transpose(th), x) + th0)\n",
    "\n",
    "def score(data, labels, th, th0):\n",
    "    return np.sum(positive(data, th, th0) == labels)"
   ]
  },
  {
   "cell_type": "code",
   "execution_count": 4,
   "metadata": {},
   "outputs": [
    {
     "name": "stdout",
     "output_type": "stream",
     "text": [
      "θ(0) = [0, 0] ile sonuç:\n",
      "th: [ 5 -1]\n",
      "th0: -6\n",
      "\n",
      "θ(0) = [1, 1] ile sonuç:\n",
      "th: [6 0]\n",
      "th0: -6\n"
     ]
    }
   ],
   "source": [
    "def perceptron(data, labels, th_init, th0_init, max_iter=1000):\n",
    "    th = th_init\n",
    "    th0 = th0_init\n",
    "    for _ in range(max_iter):\n",
    "        for i in range(data.shape[1]):\n",
    "            if labels[i] * (np.dot(th.T, data[:, i]) + th0) <= 0:\n",
    "                th = th + labels[i] * data[:, i]\n",
    "                th0 = th0 + labels[i]\n",
    "    return th, th0\n",
    "\n",
    "# Veri seti\n",
    "data = np.array([\n",
    "    [1, 2],\n",
    "    [2, 3],\n",
    "    [3, 4],\n",
    "    [4, 5],\n",
    "    [5, 6]\n",
    "]).T\n",
    "\n",
    "labels = np.array([1, 1, -1, -1, 1])\n",
    "\n",
    "# Başlangıç ağırlık vektörleri\n",
    "th_init_1 = np.array([0, 0])\n",
    "th0_init_1 = 0\n",
    "\n",
    "th_init_2 = np.array([1, 1])\n",
    "th0_init_2 = 0\n",
    "\n",
    "# Perceptron algoritmasını çalıştırma\n",
    "th_1, th0_1 = perceptron(data, labels, th_init_1, th0_init_1)\n",
    "th_2, th0_2 = perceptron(data, labels, th_init_2, th0_init_2)\n",
    "\n",
    "# Sonuçları yazdırma\n",
    "print(\"θ(0) = [0, 0] ile sonuç:\")\n",
    "print(\"th:\", th_1)\n",
    "print(\"th0:\", th0_1)\n",
    "\n",
    "print(\"\\nθ(0) = [1, 1] ile sonuç:\")\n",
    "print(\"th:\", th_2)\n",
    "print(\"th0:\", th0_2)"
   ]
  }
 ],
 "metadata": {
  "kernelspec": {
   "display_name": "base",
   "language": "python",
   "name": "python3"
  },
  "language_info": {
   "codemirror_mode": {
    "name": "ipython",
    "version": 3
   },
   "file_extension": ".py",
   "mimetype": "text/x-python",
   "name": "python",
   "nbconvert_exporter": "python",
   "pygments_lexer": "ipython3",
   "version": "3.11.5"
  }
 },
 "nbformat": 4,
 "nbformat_minor": 2
}
