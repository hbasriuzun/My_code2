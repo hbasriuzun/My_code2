{
  "cells": [
    {
      "cell_type": "markdown",
      "metadata": {
        "id": "1vjtYChCxpJo"
      },
      "source": [
        "# MIT 6.036 Spring 2019: Homework 6\n",
        "\n",
        "This homework does not include provided Python code. Instead, we encourage you to write your own code to help you answer some of these problems, and/or test and debug the code components we do ask for. All of the problems should be simple enough that hand calculation should be possible, but it may be convenient to write some short programs to explore the neural networks, particularly for problem 2.\n"
      ]
    },
    {
      "cell_type": "code",
      "execution_count": 89,
      "metadata": {
        "id": "Q0278eUVx91Z"
      },
      "outputs": [],
      "source": [
        "import numpy as np\n",
        "\n",
        "def SM(z):\n",
        "  return np.exp(z) / np.sum(np.exp(z))\n",
        "\n",
        "def dW_NLL(x,a,y):\n",
        "  return x.T *(a.T-y)\n",
        "\n",
        "def find_z(x,W):\n",
        "  return np.dot(x.T,W)\n",
        "\n",
        "def RELU(z):\n",
        "  return np.maximum(0,z)\n",
        "  "
      ]
    },
    {
      "cell_type": "markdown",
      "metadata": {
        "id": "nhKmop0MBh9R"
      },
      "source": [
        " **Problem 2A**"
      ]
    },
    {
      "cell_type": "code",
      "execution_count": 90,
      "metadata": {
        "id": "g0093Y5sBitt"
      },
      "outputs": [
        {
          "name": "stdout",
          "output_type": "stream",
          "text": [
            "[[0.09003057]\n",
            " [0.24472847]\n",
            " [0.66524096]]\n"
          ]
        }
      ],
      "source": [
        "z = np.array([[-1, 0, 1]]).T\n",
        "print(SM(z))"
      ]
    },
    {
      "cell_type": "markdown",
      "metadata": {
        "id": "4ZigPSFHBOWy"
      },
      "source": [
        "**Problem 2.C-F**"
      ]
    },
    {
      "cell_type": "code",
      "execution_count": 91,
      "metadata": {
        "id": "McPjfdEPBSNs"
      },
      "outputs": [
        {
          "name": "stdout",
          "output_type": "stream",
          "text": [
            "[[ 0  1 -1]]\n",
            "[[0.24472847 0.66524096 0.09003057]]\n",
            "[[ 0.24472847 -0.33475904  0.09003057]\n",
            " [ 0.24472847 -0.33475904  0.09003057]]\n"
          ]
        }
      ],
      "source": [
        "w = np.array([[1, -1, -2], [-1, 2, 1]])\n",
        "x = np.array([[1], [1]])\n",
        "y = np.array([[0, 1, 0]]).T\n",
        "print(find_z(x,w))\n",
        "print(SM(find_z(x,w)))\n",
        "print(dW_NLL(x,SM(find_z(x,w)),y).T)"
      ]
    },
    {
      "cell_type": "code",
      "execution_count": 92,
      "metadata": {},
      "outputs": [
        {
          "name": "stdout",
          "output_type": "stream",
          "text": [
            "[[ 0.87763576 -0.83262048 -2.04501529]\n",
            " [-1.12236424  2.16737952  0.95498471]]\n",
            "[[0.15918761 0.77245284 0.06835955]]\n"
          ]
        }
      ],
      "source": [
        "print(w-0.5 * dW_NLL(x,SM(find_z(x,w)),y).T)\n",
        "w2 = w-0.5 * dW_NLL(x,SM(find_z(x,w)),y).T\n",
        "print(SM(find_z(x,w2)))\n"
      ]
    },
    {
      "cell_type": "markdown",
      "metadata": {
        "id": "6nefgHcxHgLe"
      },
      "source": [
        "**Problem 3**"
      ]
    },
    {
      "cell_type": "code",
      "execution_count": 98,
      "metadata": {
        "id": "hFMHmf8NHgY5"
      },
      "outputs": [
        {
          "name": "stdout",
          "output_type": "stream",
          "text": [
            "[[  2]\n",
            " [ 13]\n",
            " [ -4]\n",
            " [-15]]\n",
            "[[ 2]\n",
            " [13]\n",
            " [ 0]\n",
            " [ 0]]\n",
            "[[ 15]\n",
            " [-13]]\n",
            "[[1.00000000e+00]\n",
            " [6.91440011e-13]]\n",
            "[[1.00000000e+00]\n",
            " [6.91440011e-13]]\n"
          ]
        }
      ],
      "source": [
        "# layer 1 weights\n",
        "w_1 = np.array([[1, 0, -1, 0], [0, 1, 0, -1]])\n",
        "w_1_bias = np.array([[-1, -1, -1, -1]]).T\n",
        "# layer 2 weights\n",
        "w_2 = np.array([[1, -1], [1, -1], [1, -1], [1, -1]])\n",
        "w_2_bias = np.array([[0, 2]]).T\n",
        "\n",
        "x = np.array([[3], [14]])\n",
        "\n",
        "z1 = np.dot(w_1.T, x) + w_1_bias\n",
        "print(z1)\n",
        "print(RELU(z1))\n",
        "a1 = RELU(z1)\n",
        "z2 = np.dot(w_2.T, a1) + w_2_bias\n",
        "print(z2)\n",
        "print(SM(z2))\n",
        "a2 = SM(z2)\n",
        "print(a2)"
      ]
    },
    {
      "cell_type": "code",
      "execution_count": 94,
      "metadata": {
        "colab": {
          "base_uri": "https://localhost:8080/",
          "height": 84
        },
        "id": "5Qtv3VR2AA_m",
        "outputId": "798b1f01-fbe2-4fc4-9482-f979de216f98"
      },
      "outputs": [
        {
          "name": "stdout",
          "output_type": "stream",
          "text": [
            "[[6.05288295]\n",
            " [6.48663207]\n",
            " [6.7519581 ]\n",
            " [7.58553317]]\n"
          ]
        }
      ],
      "source": [
        "import numpy as np\n",
        "\n",
        "T  = np.matrix([[0.0 , 0.1 , 0.9 , 0.0],\n",
        "[0.9 , 0.1 , 0.0 , 0.0],\n",
        "[0.0 , 0.0 , 0.1 , 0.9],\n",
        "[0.9 , 0.0 , 0.0 , 0.1]])\n",
        "g = 0.9\n",
        "r = np.matrix([0, 1., 0., 2.]).reshape(4, 1)\n",
        "\n",
        "print(np.linalg.solve(np.eye(4) - g * T, r))"
      ]
    },
    {
      "cell_type": "code",
      "execution_count": 95,
      "metadata": {},
      "outputs": [
        {
          "name": "stdout",
          "output_type": "stream",
          "text": [
            "1.6094379124341003\n"
          ]
        }
      ],
      "source": [
        "def NLL(a, y):\n",
        "  return -np.sum(y * np.log(a))\n",
        "\n",
        "a = np.array([[0.3, 0.5, 0.2]]).T\n",
        "y = np.array([[0, 0, 1]]).T\n",
        "\n",
        "print(NLL(a, y))\n"
      ]
    },
    {
      "cell_type": "code",
      "execution_count": null,
      "metadata": {},
      "outputs": [],
      "source": []
    },
    {
      "cell_type": "code",
      "execution_count": null,
      "metadata": {},
      "outputs": [],
      "source": []
    }
  ],
  "metadata": {
    "colab": {
      "provenance": []
    },
    "kernelspec": {
      "display_name": "Python 3",
      "name": "python3"
    },
    "language_info": {
      "codemirror_mode": {
        "name": "ipython",
        "version": 3
      },
      "file_extension": ".py",
      "mimetype": "text/x-python",
      "name": "python",
      "nbconvert_exporter": "python",
      "pygments_lexer": "ipython3",
      "version": "3.11.5"
    }
  },
  "nbformat": 4,
  "nbformat_minor": 0
}
