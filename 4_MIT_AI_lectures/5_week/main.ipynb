{
 "cells": [
  {
   "cell_type": "code",
   "execution_count": null,
   "metadata": {},
   "outputs": [],
   "source": [
    "def Squared_loss(x,y,th,th0):\n",
    "    return (th*x+th0-y)**2\n",
    "\n",
    "x = "
   ]
  }
 ],
 "metadata": {
  "language_info": {
   "name": "python"
  }
 },
 "nbformat": 4,
 "nbformat_minor": 2
}
