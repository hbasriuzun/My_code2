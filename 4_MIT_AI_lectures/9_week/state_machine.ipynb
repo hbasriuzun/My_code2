{
 "cells": [
  {
   "cell_type": "code",
   "execution_count": null,
   "metadata": {},
   "outputs": [],
   "source": [
    "def R(s,a):\n",
    "    if s == 1:\n",
    "        return 1\n",
    "    if s == 3:\n",
    "        return 2\n",
    "    else:\n",
    "        return 0\n"
   ]
  }
 ],
 "metadata": {
  "language_info": {
   "name": "python"
  }
 },
 "nbformat": 4,
 "nbformat_minor": 2
}
