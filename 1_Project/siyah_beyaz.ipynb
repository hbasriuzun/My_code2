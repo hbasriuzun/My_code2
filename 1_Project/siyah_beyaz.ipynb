{
 "cells": [
  {
   "cell_type": "code",
   "execution_count": null,
   "metadata": {},
   "outputs": [],
   "source": []
  },
  {
   "cell_type": "code",
   "execution_count": null,
   "metadata": {},
   "outputs": [],
   "source": [
    "import cv2\n",
    "import numpy as np\n",
    "from keras.models import load_model\n",
    "\n",
    "# Önceden eğitilmiş modeli yükle\n",
    "model = load_model('model.h5')\n",
    "\n",
    "# Videoyu yükle\n",
    "cap = cv2.VideoCapture('siyah_beyaz_video.mp4')\n",
    "\n",
    "while(cap.isOpened()):\n",
    "    ret, frame = cap.read()\n",
    "    if ret == True:\n",
    "        # Görüntüyü gri tonlamaya çevir\n",
    "        gray = cv2.cvtColor(frame, cv2.COLOR_BGR2GRAY)\n",
    "\n",
    "        # Görüntüyü modelin giriş boyutlarına göre yeniden boyutlandır\n",
    "        gray_resized = cv2.resize(gray, (224, 224))\n",
    "\n",
    "        # Görüntüyü modelin beklediği şekle getir\n",
    "        gray_resized = np.reshape(gray_resized, (1, 224, 224, 1))\n",
    "\n",
    "        # Görüntüyü renklendir\n",
    "        colored = model.predict(gray_resized)\n",
    "\n",
    "        # Görüntüyü orijinal boyutuna döndür\n",
    "        colored = cv2.resize(colored, (frame.shape[1], frame.shape[0]))\n",
    "\n",
    "        # Görüntüyü göster\n",
    "        cv2.imshow('Renklendirilmiş Video', colored)\n",
    "\n",
    "        # 'q' tuşuna basıldığında döngüden çık\n",
    "        if cv2.waitKey(1) & 0xFF == ord('q'):\n",
    "            break\n",
    "    else:\n",
    "        break\n",
    "\n",
    "# Her şey tamamlandığında video yakalamayı serbest bırak\n",
    "cap.release()\n",
    "\n",
    "# Tüm pencereleri kapat\n",
    "cv2.destroyAllWindows()"
   ]
  }
 ],
 "metadata": {
  "language_info": {
   "name": "python"
  }
 },
 "nbformat": 4,
 "nbformat_minor": 2
}
